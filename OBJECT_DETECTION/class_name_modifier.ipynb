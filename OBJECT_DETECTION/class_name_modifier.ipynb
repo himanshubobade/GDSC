{
 "cells": [
  {
   "cell_type": "code",
   "execution_count": 14,
   "metadata": {},
   "outputs": [],
   "source": [
    "import os"
   ]
  },
  {
   "cell_type": "code",
   "execution_count": 15,
   "metadata": {},
   "outputs": [],
   "source": [
    "os.chdir('C:\\\\Users\\\\HIMANSHUU\\\\Desktop\\\\OBJECT_DETECTION\\\\Labelling Images\\\\car - Copy (2)')"
   ]
  },
  {
   "cell_type": "code",
   "execution_count": 16,
   "metadata": {},
   "outputs": [
    {
     "name": "stdout",
     "output_type": "stream",
     "text": [
      "/c/Users/HIMANSHUU/Desktop/OBJECT_DETECTION/Labelling Images/car - Copy (2)\n"
     ]
    }
   ],
   "source": [
    "!pwd"
   ]
  },
  {
   "cell_type": "code",
   "execution_count": 17,
   "metadata": {},
   "outputs": [],
   "source": [
    "x=os.listdir()\n",
    "y=[]\n",
    "for item in x:\n",
    "    if \".txt\" in item:\n",
    "        y.append(item)"
   ]
  },
  {
   "cell_type": "code",
   "execution_count": 12,
   "metadata": {},
   "outputs": [
    {
     "name": "stdout",
     "output_type": "stream",
     "text": [
      "Text replaced\n"
     ]
    }
   ],
   "source": [
    "search_text = \"0\"\n",
    "replace_text = \"1\"\n",
    "for item in y:\n",
    "    with open(item, 'r') as file:\n",
    "        data = file.read()\n",
    "        data = data.replace(search_text, replace_text)\n",
    "\n",
    "    with open(item, 'w') as file:\n",
    "        file.write(data)\n",
    "\n",
    "print(\"Text replaced\")"
   ]
  },
  {
   "cell_type": "code",
   "execution_count": 18,
   "metadata": {},
   "outputs": [
    {
     "name": "stdout",
     "output_type": "stream",
     "text": [
      "['1.jpg', '1.txt', '10.jpg', '10.txt', '100.jpg', '100.txt', '101.jpg', '101.txt', '102.jpg', '102.txt', '103.jpg', '103.txt', '104.jpg', '104.txt', '105.jpg', '105.txt', '106.jpg', '106.txt', '107.jpg', '107.txt', '108.jpg', '108.txt', '109.jpg', '109.txt', '11.jpg', '11.txt', '110.jpg', '110.txt', '111.jpg', '111.txt', '112.jpg', '112.txt', '113.jpg', '113.txt', '114.jpg', '114.txt', '115.jpg', '115.txt', '116.jpg', '116.txt', '117.jpg', '117.txt', '118.jpg', '118.txt', '119.jpg', '119.txt', '12.jpg', '12.txt', '120.jpg', '120.txt', '121.jpg', '121.txt', '122.jpg', '122.txt', '123.jpg', '123.txt', '124.jpg', '124.txt', '125.jpg', '125.txt', '126.jpg', '126.txt', '127.jpg', '127.txt', '128.jpg', '128.txt', '129.jpg', '129.txt', '13.jpg', '13.txt', '130.jpg', '130.txt', '131.jpg', '131.txt', '132.jpg', '132.txt', '133.jpg', '133.txt', '134.jpg', '134.txt', '135.jpg', '135.txt', '136.jpg', '136.txt', '137.jpg', '137.txt', '138.jpg', '138.txt', '139.jpg', '139.txt', '14.jpg', '14.txt', '140.jpg', '140.txt', '141.jpg', '141.txt', '142.jpg', '142.txt', '143.jpg', '143.txt', '144.jpg', '144.txt', '145.jpg', '145.txt', '146.jpg', '146.txt', '147.jpg', '147.txt', '148.jpg', '148.txt', '149.jpg', '149.txt', '15.jpg', '15.txt', '150.jpg', '150.txt', '151.jpg', '151.txt', '152.jpg', '152.txt', '153.jpg', '153.txt', '154.jpg', '154.txt', '155.jpg', '155.txt', '156.jpg', '156.txt', '157.jpg', '157.txt', '158.jpg', '158.txt', '159.jpg', '159.txt', '16.jpg', '16.txt', '160.jpg', '160.txt', '161.jpg', '161.txt', '162.jpg', '162.txt', '163.jpg', '163.txt', '164.jpg', '164.txt', '165.jpg', '165.txt', '166.jpg', '166.txt', '167.jpg', '167.txt', '168.jpg', '168.txt', '169.jpg', '169.txt', '17.jpg', '17.txt', '170.jpg', '170.txt', '171.jpg', '171.txt', '172.jpg', '172.txt', '173.jpg', '173.txt', '174.jpg', '174.txt', '175.jpg', '175.txt', '176.jpg', '176.txt', '177.jpg', '177.txt', '178.jpg', '178.txt', '179.jpg', '179.txt', '18.jpg', '18.txt', '180.jpg', '180.txt', '181.jpg', '181.txt', '182.jpg', '182.txt', '183.jpg', '183.txt', '184.jpg', '184.txt', '185.jpg', '185.txt', '186.jpg', '186.txt', '187.jpg', '187.txt', '188.jpg', '188.txt', '189.jpg', '189.txt', '19.jpg', '19.txt', '190.jpg', '190.txt', '191.jpg', '191.txt', '192.jpg', '192.txt', '193.jpg', '193.txt', '194.jpg', '194.txt', '195.jpg', '195.txt', '196.jpg', '196.txt', '197.jpg', '197.txt', '198.jpg', '198.txt', '199.jpg', '199.txt', '2.jpg', '2.txt', '20.jpg', '20.txt', '200.jpg', '200.txt', '21.jpg', '21.txt', '22.jpg', '22.txt', '23.jpg', '23.txt', '24.jpg', '24.txt', '25.jpg', '25.txt', '26.jpg', '26.txt', '27.jpg', '27.txt', '28.jpg', '28.txt', '29.jpg', '29.txt', '3.jpg', '3.txt', '30.jpg', '30.txt', '31.jpg', '31.txt', '32.jpg', '32.txt', '33.jpg', '33.txt', '34.jpg', '34.txt', '35.jpg', '35.txt', '36.jpg', '36.txt', '37.jpg', '37.txt', '38.jpg', '38.txt', '39.jpg', '39.txt', '4.jpg', '4.txt', '40.jpg', '40.txt', '41.jpg', '41.txt', '42.jpg', '42.txt', '43.jpg', '43.txt', '44.jpg', '44.txt', '45.jpg', '45.txt', '46.jpg', '46.txt', '47.jpg', '47.txt', '48.jpg', '48.txt', '49.jpg', '49.txt', '5.jpg', '5.txt', '50.jpg', '50.txt', '51.jpg', '51.txt', '52.jpg', '52.txt', '53.jpg', '53.txt', '54.jpg', '54.txt', '55.jpg', '55.txt', '56.jpg', '56.txt', '57.jpg', '57.txt', '58.jpg', '58.txt', '59.jpg', '59.txt', '6.jpg', '6.txt', '60.jpg', '60.txt', '61.jpg', '61.txt', '62.jpg', '62.txt', '63.jpg', '63.txt', '64.jpg', '64.txt', '65.jpg', '65.txt', '66.jpg', '66.txt', '67.jpg', '67.txt', '68.jpg', '68.txt', '69.jpg', '69.txt', '7.jpg', '7.txt', '70.jpg', '70.txt', '71.jpg', '71.txt', '72.jpg', '72.txt', '73.jpg', '73.txt', '74.jpg', '74.txt', '75.jpg', '75.txt', '76.jpg', '76.txt', '77.jpg', '77.txt', '78.jpg', '78.txt', '79.jpg', '79.txt', '8.jpg', '8.txt', '80.jpg', '80.txt', '81.jpg', '81.txt', '82.jpg', '82.txt', '83.jpg', '83.txt', '84.jpg', '84.txt', '85.jpg', '85.txt', '86.jpg', '86.txt', '87.jpg', '87.txt', '88.jpg', '88.txt', '89.jpg', '89.txt', '9.jpg', '9.txt', '90.jpg', '90.txt', '91.jpg', '91.txt', '92.jpg', '92.txt', '93.jpg', '93.txt', '94.jpg', '94.txt', '95.jpg', '95.txt', '96.jpg', '96.txt', '97.jpg', '97.txt', '98.jpg', '98.txt', '99.jpg', '99.txt', 'classes.txt']\n"
     ]
    }
   ],
   "source": [
    "x=os.listdir()\n",
    "print(x)"
   ]
  },
  {
   "cell_type": "code",
   "execution_count": 19,
   "metadata": {},
   "outputs": [
    {
     "name": "stdout",
     "output_type": "stream",
     "text": [
      "['1', '10', '100', '101', '102', '103', '104', '105', '106', '107', '108', '109', '11', '110', '111', '112', '113', '114', '115', '116', '117', '118', '119', '12', '120', '121', '122', '123', '124', '125', '126', '127', '128', '129', '13', '130', '131', '132', '133', '134', '135', '136', '137', '138', '139', '14', '140', '141', '142', '143', '144', '145', '146', '147', '148', '149', '15', '150', '151', '152', '153', '154', '155', '156', '157', '158', '159', '16', '160', '161', '162', '163', '164', '165', '166', '167', '168', '169', '17', '170', '171', '172', '173', '174', '175', '176', '177', '178', '179', '18', '180', '181', '182', '183', '184', '185', '186', '187', '188', '189', '19', '190', '191', '192', '193', '194', '195', '196', '197', '198', '199', '2', '20', '200', '21', '22', '23', '24', '25', '26', '27', '28', '29', '3', '30', '31', '32', '33', '34', '35', '36', '37', '38', '39', '4', '40', '41', '42', '43', '44', '45', '46', '47', '48', '49', '5', '50', '51', '52', '53', '54', '55', '56', '57', '58', '59', '6', '60', '61', '62', '63', '64', '65', '66', '67', '68', '69', '7', '70', '71', '72', '73', '74', '75', '76', '77', '78', '79', '8', '80', '81', '82', '83', '84', '85', '86', '87', '88', '89', '9', '90', '91', '92', '93', '94', '95', '96', '97', '98', '99', 'classes']\n"
     ]
    }
   ],
   "source": [
    "x=os.listdir()\n",
    "l1=[]\n",
    "for i in x:\n",
    "    index,extension=i.split(\".\")\n",
    "    if index in l1:\n",
    "        pass\n",
    "    else:\n",
    "        l1.append(index)\n",
    "print(l1)"
   ]
  },
  {
   "cell_type": "code",
   "execution_count": 20,
   "metadata": {},
   "outputs": [
    {
     "name": "stdout",
     "output_type": "stream",
     "text": [
      "['1', '10', '100', '101', '102', '103', '104', '105', '106', '107', '108', '109', '11', '110', '111', '112', '113', '114', '115', '116', '117', '118', '119', '12', '120', '121', '122', '123', '124', '125', '126', '127', '128', '129', '13', '130', '131', '132', '133', '134', '135', '136', '137', '138', '139', '14', '140', '141', '142', '143', '144', '145', '146', '147', '148', '149', '15', '150', '151', '152', '153', '154', '155', '156', '157', '158', '159', '16', '160', '161', '162', '163', '164', '165', '166', '167', '168', '169', '17', '170', '171', '172', '173', '174', '175', '176', '177', '178', '179', '18', '180', '181', '182', '183', '184', '185', '186', '187', '188', '189', '19', '190', '191', '192', '193', '194', '195', '196', '197', '198', '199', '2', '20', '200', '21', '22', '23', '24', '25', '26', '27', '28', '29', '3', '30', '31', '32', '33', '34', '35', '36', '37', '38', '39', '4', '40', '41', '42', '43', '44', '45', '46', '47', '48', '49', '5', '50', '51', '52', '53', '54', '55', '56', '57', '58', '59', '6', '60', '61', '62', '63', '64', '65', '66', '67', '68', '69', '7', '70', '71', '72', '73', '74', '75', '76', '77', '78', '79', '8', '80', '81', '82', '83', '84', '85', '86', '87', '88', '89', '9', '90', '91', '92', '93', '94', '95', '96', '97', '98', '99', 'classes']\n"
     ]
    }
   ],
   "source": [
    "y=os.listdir()\n",
    "l1=[]\n",
    "for i in x:\n",
    "    index,extension=i.split(\".\")\n",
    "    if index in l1:\n",
    "        pass\n",
    "    else:\n",
    "        l1.append(index)\n",
    "print(l1)"
   ]
  },
  {
   "cell_type": "code",
   "execution_count": 21,
   "metadata": {},
   "outputs": [
    {
     "ename": "FileNotFoundError",
     "evalue": "[WinError 2] The system cannot find the file specified: 'classes.jpg' -> '601.jpg'",
     "output_type": "error",
     "traceback": [
      "\u001b[1;31m---------------------------------------------------------------------------\u001b[0m",
      "\u001b[1;31mFileNotFoundError\u001b[0m                         Traceback (most recent call last)",
      "\u001b[1;32m<ipython-input-21-8c670770b2a5>\u001b[0m in \u001b[0;36m<module>\u001b[1;34m\u001b[0m\n\u001b[0;32m      2\u001b[0m \u001b[0mcount\u001b[0m\u001b[1;33m=\u001b[0m\u001b[1;36m401\u001b[0m\u001b[1;33m\u001b[0m\u001b[1;33m\u001b[0m\u001b[0m\n\u001b[0;32m      3\u001b[0m \u001b[1;32mfor\u001b[0m \u001b[0mi\u001b[0m \u001b[1;32min\u001b[0m \u001b[0ml1\u001b[0m\u001b[1;33m:\u001b[0m\u001b[1;33m\u001b[0m\u001b[1;33m\u001b[0m\u001b[0m\n\u001b[1;32m----> 4\u001b[1;33m     \u001b[0mos\u001b[0m\u001b[1;33m.\u001b[0m\u001b[0mrename\u001b[0m\u001b[1;33m(\u001b[0m\u001b[0mi\u001b[0m\u001b[1;33m+\u001b[0m\u001b[1;34m\".jpg\"\u001b[0m\u001b[1;33m,\u001b[0m\u001b[0mstr\u001b[0m\u001b[1;33m(\u001b[0m\u001b[0mcount\u001b[0m\u001b[1;33m)\u001b[0m\u001b[1;33m+\u001b[0m\u001b[1;34m\".jpg\"\u001b[0m\u001b[1;33m)\u001b[0m\u001b[1;33m\u001b[0m\u001b[1;33m\u001b[0m\u001b[0m\n\u001b[0m\u001b[0;32m      5\u001b[0m     \u001b[0mos\u001b[0m\u001b[1;33m.\u001b[0m\u001b[0mrename\u001b[0m\u001b[1;33m(\u001b[0m\u001b[0mi\u001b[0m\u001b[1;33m+\u001b[0m\u001b[1;34m\".txt\"\u001b[0m\u001b[1;33m,\u001b[0m\u001b[0mstr\u001b[0m\u001b[1;33m(\u001b[0m\u001b[0mcount\u001b[0m\u001b[1;33m)\u001b[0m\u001b[1;33m+\u001b[0m\u001b[1;34m\".txt\"\u001b[0m\u001b[1;33m)\u001b[0m\u001b[1;33m\u001b[0m\u001b[1;33m\u001b[0m\u001b[0m\n\u001b[0;32m      6\u001b[0m     \u001b[0mcount\u001b[0m\u001b[1;33m+=\u001b[0m\u001b[1;36m1\u001b[0m\u001b[1;33m\u001b[0m\u001b[1;33m\u001b[0m\u001b[0m\n",
      "\u001b[1;31mFileNotFoundError\u001b[0m: [WinError 2] The system cannot find the file specified: 'classes.jpg' -> '601.jpg'"
     ]
    }
   ],
   "source": [
    "x=os.listdir()\n",
    "count=401\n",
    "for i in l1:\n",
    "    os.rename(i+\".jpg\",str(count)+\".jpg\")\n",
    "    os.rename(i+\".txt\",str(count)+\".txt\")\n",
    "    count+=1"
   ]
  }
 ],
 "metadata": {
  "kernelspec": {
   "display_name": "Python 3",
   "language": "python",
   "name": "python3"
  },
  "language_info": {
   "codemirror_mode": {
    "name": "ipython",
    "version": 3
   },
   "file_extension": ".py",
   "mimetype": "text/x-python",
   "name": "python",
   "nbconvert_exporter": "python",
   "pygments_lexer": "ipython3",
   "version": "3.8.5"
  }
 },
 "nbformat": 4,
 "nbformat_minor": 4
}
